{
 "cells": [
  {
   "cell_type": "code",
   "execution_count": null,
   "id": "9822ed90",
   "metadata": {},
   "outputs": [],
   "source": [
    "import pandas as pd\n",
    "import numpy as np,os,glob,matplotlib.pyplot as plt"
   ]
  },
  {
   "cell_type": "code",
   "execution_count": 4,
   "id": "4a818efa",
   "metadata": {
    "scrolled": true
   },
   "outputs": [
    {
     "name": "stdout",
     "output_type": "stream",
     "text": [
      "33\n",
      "30.237391777777777\n",
      "27.771854116573444\n",
      "25.570254152052698\n",
      "23.603181674692237\n",
      "21.84453023725988\n",
      "20.271125412858332\n",
      "18.862394895926393\n",
      "17.600075736061264\n",
      "16.467954524739337\n",
      "15.45163682554043\n",
      "14.538342556041966\n",
      "13.716724400105804\n",
      "12.97670665812437\n",
      "12.30934223461848\n",
      "11.706685721554706\n",
      "11.16168076557316\n",
      "10.668060111268332\n",
      "10.220256893659194\n",
      "9.813325913603716\n",
      "9.442873772451415\n",
      "9.10499686872078\n",
      "8.796226371841998\n",
      "8.513479387623308\n",
      "8.254015618502905\n",
      "8.01539890010068\n",
      "7.795463065205119\n",
      "7.592281648114504\n",
      "7.404140997080589\n",
      "7.229516411259804\n",
      "7.067050961756826\n",
      "6.915536694664301\n",
      "6.773897948008139\n",
      "6.641176544685281\n",
      "6.516518650261492\n",
      "6.399163108262563\n",
      "6.288431086682976\n",
      "6.183716888152626\n",
      "6.084479792811752\n",
      "5.990236817684195\n",
      "5.900556289419825\n",
      "5.8150521388850915\n",
      "5.733378836382336\n",
      "5.655226895420251\n",
      "5.580318881070848\n",
      "5.508405866147792\n",
      "5.439264284830189\n",
      "5.372693139025879\n",
      "5.30851151779995\n",
      "5.246556394659607\n",
      "5.186680671449098\n",
      "5.12875144112516\n",
      "5.072648444804062\n",
      "5.01826270124103\n",
      "4.965495289360339\n",
      "4.9142562666356895\n",
      "4.864463708055887\n",
      "4.816042852128721\n",
      "4.768925341900166\n",
      "4.723048550318946\n",
      "4.678354980476905\n",
      "4.634791732321134\n",
      "4.5923100283791545\n",
      "4.550864791877649\n",
      "4.510414271379725\n",
      "4.470919706726638\n",
      "4.432345031656167\n",
      "4.394656608990431\n",
      "4.357822994747732\n",
      "4.321814727942817\n",
      "4.286604143203864\n",
      "4.252165203657131\n",
      "4.21847335181686\n",
      "4.185505376472104\n",
      "4.153239293787993\n",
      "4.121654241038976\n",
      "4.090730381569459\n",
      "4.060448819734906\n",
      "4.030791524716435\n",
      "4.001741262226267\n",
      "3.9732815332314178\n",
      "3.945396518921173\n",
      "3.91807103123046\n",
      "3.891290468308471\n",
      "3.865040774390197\n",
      "3.839308403589347\n",
      "3.814080287184921\n",
      "3.7893438040215663\n",
      "3.7650867536863566\n",
      "3.741297332162188\n",
      "3.7179641096915605\n",
      "3.695076010614129\n",
      "3.672622294967774\n",
      "3.6505925416663234\n",
      "3.6289766330878734\n",
      "3.6077647409260165\n",
      "3.5869473131726948\n",
      "3.5665150621159425\n",
      "3.546458953248601\n",
      "3.5267701949956485\n"
     ]
    }
   ],
   "source": [
    "x=[[4,3,-5],[-2,-4,5],[7,8,0]]\n",
    "y_true=[2,5,-3]\n",
    "m=[0 for i in range(len(x))]\n",
    "\n",
    "c=1\n",
    "n=len(x)\n",
    "alpha=0.001 # learning rate\n",
    "e=[]\n",
    "def calc_loss(y_pred,Y): #loss calculation\n",
    "    er=0\n",
    "    for i1,i2 in zip(y_pred,Y):\n",
    "        er+=(i1-i2)**2\n",
    "    return er\n",
    "for iter in range(100):\n",
    "\n",
    "    y_pred=[]\n",
    "\n",
    "    for i1 in range(len(x[0])):\n",
    "        pred=0\n",
    "        for i2 in range(len(x)):\n",
    "            pred+=m[i2]*x[i2][i1]\n",
    "        pred+=c\n",
    "        y_pred.append(pred)\n",
    "    \n",
    "    err=calc_loss(y_pred,y_true)\n",
    "    print(err)\n",
    "    se_m=[]\n",
    "    for X in range(len(x)):\n",
    "        se_m.append(sum([(x1-x2)*x3 for x1,x2,x3 in zip(y_pred,y_true,x[X])]))\n",
    "    #now update m,c\n",
    "    mnew=[m[k]-alpha*se_m[k]*(1/n) for k in range(len(m))] # updating slope m\n",
    "    m=mnew\n",
    "    se=sum([x1-x2 for x1,x2 in zip(y_pred,y_true)])\n",
    "    c=c-alpha*se*(1/n) # updating intercept c\n",
    "    e.append(err) # storing losses for different iterations\n"
   ]
  },
  {
   "cell_type": "code",
   "execution_count": 5,
   "id": "23f9ac8d",
   "metadata": {},
   "outputs": [
    {
     "data": {
      "text/plain": [
       "[0.26127046901667156, -0.3855009404914617, 0.09761192448727829]"
      ]
     },
     "execution_count": 5,
     "metadata": {},
     "output_type": "execute_result"
    }
   ],
   "source": [
    "mnew # contains the result similar to np.lingalg.solve(A,B)"
   ]
  },
  {
   "cell_type": "code",
   "execution_count": 8,
   "id": "d6799c48",
   "metadata": {},
   "outputs": [
    {
     "data": {
      "text/plain": [
       "Text(0.5, 1.0, '     Learning curve for  linear regression')"
      ]
     },
     "execution_count": 8,
     "metadata": {},
     "output_type": "execute_result"
    },
    {
     "data": {
      "image/png": "[encoded data removed]",
      "text/plain": [
       "<Figure size 576x432 with 1 Axes>"
      ]
     },
     "metadata": {
      "needs_background": "light"
     },
     "output_type": "display_data"
    }
   ],
   "source": [
    "plt.figure(figsize=(8,6))\n",
    "plt.plot(e,'+')\n",
    "plt.ylabel('Sum squared loss',fontsize=15,color='blue')\n",
    "plt.xlabel('Iterations',fontsize=15,color='blue')\n",
    "plt.title('     Learning curve for  linear regression',fontsize=14,color='red')"
   ]
  },
  {
   "cell_type": "code",
   "execution_count": null,
   "id": "531552c8",
   "metadata": {},
   "outputs": [],
   "source": [
    "# \n",
    "    \n",
    "df=pd.read_csv('kaggle_train.csv')"
   ]
  }
 ],
 "metadata": {
  "kernelspec": {
   "display_name": "Python 3",
   "language": "python",
   "name": "python3"
  },
  "language_info": {
   "codemirror_mode": {
    "name": "ipython",
    "version": 3
   },
   "file_extension": ".py",
   "mimetype": "text/x-python",
   "name": "python",
   "nbconvert_exporter": "python",
   "pygments_lexer": "ipython3",
   "version": "3.8.8"
  }
 },
 "nbformat": 4,
 "nbformat_minor": 5
}
